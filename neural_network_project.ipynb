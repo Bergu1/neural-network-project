{
  "nbformat": 4,
  "nbformat_minor": 0,
  "metadata": {
    "colab": {
      "provenance": [],
      "authorship_tag": "ABX9TyMsxsH56rPTOXAmC+qeXgZ0",
      "include_colab_link": true
    },
    "kernelspec": {
      "name": "python3",
      "display_name": "Python 3"
    },
    "language_info": {
      "name": "python"
    }
  },
  "cells": [
    {
      "cell_type": "markdown",
      "metadata": {
        "id": "view-in-github",
        "colab_type": "text"
      },
      "source": [
        "<a href=\"https://colab.research.google.com/github/Bergu1/neural-network-project/blob/main/neural_network_project.ipynb\" target=\"_parent\"><img src=\"https://colab.research.google.com/assets/colab-badge.svg\" alt=\"Open In Colab\"/></a>"
      ]
    },
    {
      "cell_type": "markdown",
      "source": [
        "Importuje biblioteke"
      ],
      "metadata": {
        "id": "WAaFrhN3E_2Q"
      }
    },
    {
      "cell_type": "code",
      "source": [
        "import torch\n",
        "import kagglehub"
      ],
      "metadata": {
        "id": "fffB6nO5E-Lj"
      },
      "execution_count": null,
      "outputs": []
    },
    {
      "cell_type": "code",
      "source": [
        "import os"
      ],
      "metadata": {
        "id": "5o4lMCTqO412"
      },
      "execution_count": null,
      "outputs": []
    },
    {
      "cell_type": "code",
      "source": [
        "import torchvision.datasets as datasets\n",
        "import torchvision.transforms as transforms"
      ],
      "metadata": {
        "id": "If-smaC7Sbjb"
      },
      "execution_count": 11,
      "outputs": []
    },
    {
      "cell_type": "code",
      "source": [
        "from sklearn.model_selection import train_test_split\n",
        "import shutil\n",
        "from pathlib import Path"
      ],
      "metadata": {
        "id": "lLf1mVxSZX8o"
      },
      "execution_count": 27,
      "outputs": []
    },
    {
      "cell_type": "code",
      "source": [
        "path = kagglehub.dataset_download(\"chrisfilo/fruit-recognition\")\n",
        "print(\"Path to dataset files:\", path)"
      ],
      "metadata": {
        "id": "PqRv_NqoNnZJ",
        "outputId": "ef9325f8-8c89-4370-d91e-ecb83d6ffd4c",
        "colab": {
          "base_uri": "https://localhost:8080/"
        }
      },
      "execution_count": null,
      "outputs": [
        {
          "output_type": "stream",
          "name": "stdout",
          "text": [
            "Path to dataset files: /root/.cache/kagglehub/datasets/chrisfilo/fruit-recognition/versions/1\n"
          ]
        }
      ]
    },
    {
      "cell_type": "code",
      "source": [
        "path = '/root/.cache/kagglehub/datasets/chrisfilo/fruit-recognition/versions/1'\n",
        "output_path = '/content/banana_kiwi_orange'"
      ],
      "metadata": {
        "id": "u2jyRPtmOy9v"
      },
      "execution_count": 19,
      "outputs": []
    },
    {
      "cell_type": "code",
      "source": [
        "files = os.listdir(path)\n",
        "print(\"Files in the dataset folder:\", files)"
      ],
      "metadata": {
        "id": "t6psLp9rOzlh",
        "outputId": "5a5176d1-c57e-45f2-ecd6-8a152380759f",
        "colab": {
          "base_uri": "https://localhost:8080/"
        }
      },
      "execution_count": null,
      "outputs": [
        {
          "output_type": "stream",
          "name": "stdout",
          "text": [
            "Files in the dataset folder: ['Apple', 'Mango', 'Pomegranate', 'Kiwi', 'Plum', 'Peach', 'Carambola', 'muskmelon', 'Banana', 'Pear', 'Guava', 'Persimmon', 'Tomatoes', 'Orange', 'Pitaya']\n"
          ]
        }
      ]
    },
    {
      "cell_type": "markdown",
      "source": [
        "#Usuwanie folderów"
      ],
      "metadata": {
        "id": "Mtquyn_Rl4Qs"
      }
    },
    {
      "cell_type": "code",
      "source": [
        "for item in os.listdir(output_path):\n",
        "    item_path = os.path.join(output_path, item)\n",
        "    if os.path.isdir(item_path):\n",
        "        shutil.rmtree(item_path)"
      ],
      "metadata": {
        "id": "RNv7SkUnfVFO"
      },
      "execution_count": 52,
      "outputs": []
    },
    {
      "cell_type": "code",
      "source": [
        "categories = ['banana', 'peach', 'orange']\n",
        "train_size = 800\n",
        "test_size = 200"
      ],
      "metadata": {
        "id": "Y1StJqQ0fp7p"
      },
      "execution_count": 53,
      "outputs": []
    },
    {
      "cell_type": "code",
      "source": [
        "os.makedirs(f\"{output_path}/train\", exist_ok=True)\n",
        "os.makedirs(f\"{output_path}/test\", exist_ok=True)"
      ],
      "metadata": {
        "id": "8F3sq-7lfuTE"
      },
      "execution_count": 56,
      "outputs": []
    },
    {
      "cell_type": "markdown",
      "source": [
        "# Pobieranie danych i kopiowanie do konkretnych utworzonych przez nas folderów\n",
        "w poniższym przypadku mamy tylko podział na test i train gdybyśmy chcieli mieć podział na test train i validation należało by to zrobić tak:\n",
        "\n",
        "Najpierw dzielimy dane na zestaw treningowy oraz pozostały (test + walidacja):\n",
        "\n",
        "**train_images, remaining_images = train_test_split(images, train_size=train_size, random_state=42)**\n",
        "\n",
        "Następnie dzielimy pozostały zbiór na test i walidację:\n",
        "\n",
        "**test_images, validation_images = train_test_split(remaining_images, test_size=validation_size, random_state=42)**\n",
        "\n",
        "Do tych folderów przypisywane są same nazwy obrazków na podstawie których będziemy kopiować dane z datasetu."
      ],
      "metadata": {
        "id": "6TUt0G3Pks4Q"
      }
    },
    {
      "cell_type": "code",
      "source": [
        "for category in categories:\n",
        "  category_path = os.path.join(path, category.capitalize())\n",
        "  train_category_path = os.path.join(output_path, 'train', category)\n",
        "  test_category_path = os.path.join(output_path, 'test', category)\n",
        "\n",
        "  os.makedirs(train_category_path, exist_ok=True)\n",
        "  os.makedirs(test_category_path, exist_ok=True)\n",
        "\n",
        "  images = os.listdir(category_path)\n",
        "  train_images, test_images = train_test_split(images, train_size=train_size, test_size=test_size, random_state=42)\n",
        "\n",
        "  for img in train_images:\n",
        "      shutil.copy(os.path.join(category_path, img), os.path.join(train_category_path, img))\n",
        "\n",
        "  for img in test_images:\n",
        "      shutil.copy(os.path.join(category_path, img), os.path.join(test_category_path, img))"
      ],
      "metadata": {
        "collapsed": true,
        "id": "Vx193YgKUAo6"
      },
      "execution_count": 55,
      "outputs": []
    }
  ]
}