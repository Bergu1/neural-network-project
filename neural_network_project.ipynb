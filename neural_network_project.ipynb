{
  "nbformat": 4,
  "nbformat_minor": 0,
  "metadata": {
    "colab": {
      "provenance": [],
      "authorship_tag": "ABX9TyN42S9QJkvXSghGpCstv6W1",
      "include_colab_link": true
    },
    "kernelspec": {
      "name": "python3",
      "display_name": "Python 3"
    },
    "language_info": {
      "name": "python"
    }
  },
  "cells": [
    {
      "cell_type": "markdown",
      "metadata": {
        "id": "view-in-github",
        "colab_type": "text"
      },
      "source": [
        "<a href=\"https://colab.research.google.com/github/Bergu1/neural-network-project/blob/main/neural_network_project.ipynb\" target=\"_parent\"><img src=\"https://colab.research.google.com/assets/colab-badge.svg\" alt=\"Open In Colab\"/></a>"
      ]
    },
    {
      "cell_type": "markdown",
      "source": [
        "Importuje biblioteke"
      ],
      "metadata": {
        "id": "WAaFrhN3E_2Q"
      }
    },
    {
      "cell_type": "code",
      "source": [
        "import torch\n",
        "import kagglehub"
      ],
      "metadata": {
        "id": "fffB6nO5E-Lj"
      },
      "execution_count": 1,
      "outputs": []
    },
    {
      "cell_type": "code",
      "source": [
        "import os"
      ],
      "metadata": {
        "id": "5o4lMCTqO412"
      },
      "execution_count": 5,
      "outputs": []
    },
    {
      "cell_type": "code",
      "source": [
        "path = kagglehub.dataset_download(\"chrisfilo/fruit-recognition\")\n",
        "\n",
        "print(\"Path to dataset files:\", path)"
      ],
      "metadata": {
        "id": "PqRv_NqoNnZJ",
        "outputId": "ef9325f8-8c89-4370-d91e-ecb83d6ffd4c",
        "colab": {
          "base_uri": "https://localhost:8080/"
        }
      },
      "execution_count": 6,
      "outputs": [
        {
          "output_type": "stream",
          "name": "stdout",
          "text": [
            "Path to dataset files: /root/.cache/kagglehub/datasets/chrisfilo/fruit-recognition/versions/1\n"
          ]
        }
      ]
    },
    {
      "cell_type": "code",
      "source": [
        "path = '/root/.cache/kagglehub/datasets/chrisfilo/fruit-recognition/versions/1'"
      ],
      "metadata": {
        "id": "u2jyRPtmOy9v"
      },
      "execution_count": 3,
      "outputs": []
    },
    {
      "cell_type": "code",
      "source": [
        "files = os.listdir(path)\n",
        "print(\"Files in the dataset folder:\", files)"
      ],
      "metadata": {
        "id": "t6psLp9rOzlh",
        "outputId": "5a5176d1-c57e-45f2-ecd6-8a152380759f",
        "colab": {
          "base_uri": "https://localhost:8080/"
        }
      },
      "execution_count": 10,
      "outputs": [
        {
          "output_type": "stream",
          "name": "stdout",
          "text": [
            "Files in the dataset folder: ['Apple', 'Mango', 'Pomegranate', 'Kiwi', 'Plum', 'Peach', 'Carambola', 'muskmelon', 'Banana', 'Pear', 'Guava', 'Persimmon', 'Tomatoes', 'Orange', 'Pitaya']\n"
          ]
        }
      ]
    }
  ]
}