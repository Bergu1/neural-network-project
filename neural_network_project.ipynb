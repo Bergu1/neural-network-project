{
  "nbformat": 4,
  "nbformat_minor": 0,
  "metadata": {
    "colab": {
      "provenance": [],
      "authorship_tag": "ABX9TyNXC8LufmgCl3LHTHD1H4qS",
      "include_colab_link": true
    },
    "kernelspec": {
      "name": "python3",
      "display_name": "Python 3"
    },
    "language_info": {
      "name": "python"
    }
  },
  "cells": [
    {
      "cell_type": "markdown",
      "metadata": {
        "id": "view-in-github",
        "colab_type": "text"
      },
      "source": [
        "<a href=\"https://colab.research.google.com/github/Bergu1/neural-network-project/blob/main/neural_network_project.ipynb\" target=\"_parent\"><img src=\"https://colab.research.google.com/assets/colab-badge.svg\" alt=\"Open In Colab\"/></a>"
      ]
    },
    {
      "cell_type": "markdown",
      "source": [
        "Importuje biblioteke"
      ],
      "metadata": {
        "id": "WAaFrhN3E_2Q"
      }
    },
    {
      "cell_type": "code",
      "source": [
        "import torch\n",
        "import kagglehub"
      ],
      "metadata": {
        "id": "fffB6nO5E-Lj"
      },
      "execution_count": 1,
      "outputs": []
    },
    {
      "cell_type": "code",
      "source": [
        "import os"
      ],
      "metadata": {
        "id": "5o4lMCTqO412"
      },
      "execution_count": 2,
      "outputs": []
    },
    {
      "cell_type": "code",
      "source": [
        "import torchvision.datasets as datasets\n",
        "import torchvision.transforms as transforms"
      ],
      "metadata": {
        "id": "If-smaC7Sbjb"
      },
      "execution_count": 3,
      "outputs": []
    },
    {
      "cell_type": "code",
      "source": [
        "from sklearn.model_selection import train_test_split\n",
        "import shutil\n",
        "from pathlib import Path"
      ],
      "metadata": {
        "id": "lLf1mVxSZX8o"
      },
      "execution_count": 4,
      "outputs": []
    },
    {
      "cell_type": "code",
      "source": [
        "path = kagglehub.dataset_download(\"chrisfilo/fruit-recognition\")\n",
        "print(\"Path to dataset files:\", path)"
      ],
      "metadata": {
        "id": "PqRv_NqoNnZJ",
        "outputId": "8579793c-89b7-43bf-c528-5fe032fb04fc",
        "colab": {
          "base_uri": "https://localhost:8080/"
        }
      },
      "execution_count": 5,
      "outputs": [
        {
          "output_type": "stream",
          "name": "stdout",
          "text": [
            "Downloading from https://www.kaggle.com/api/v1/datasets/download/chrisfilo/fruit-recognition?dataset_version_number=1...\n"
          ]
        },
        {
          "output_type": "stream",
          "name": "stderr",
          "text": [
            "100%|██████████| 7.92G/7.92G [01:42<00:00, 82.7MB/s]"
          ]
        },
        {
          "output_type": "stream",
          "name": "stdout",
          "text": [
            "Extracting files...\n"
          ]
        },
        {
          "output_type": "stream",
          "name": "stderr",
          "text": [
            "\n"
          ]
        },
        {
          "output_type": "stream",
          "name": "stdout",
          "text": [
            "Path to dataset files: /root/.cache/kagglehub/datasets/chrisfilo/fruit-recognition/versions/1\n"
          ]
        }
      ]
    },
    {
      "cell_type": "code",
      "source": [
        "path = '/root/.cache/kagglehub/datasets/chrisfilo/fruit-recognition/versions/1'\n",
        "output_path = '/content/banana_kiwi_orange'\n",
        "os.makedirs(f\"{output_path}\", exist_ok=True)"
      ],
      "metadata": {
        "id": "u2jyRPtmOy9v"
      },
      "execution_count": 9,
      "outputs": []
    },
    {
      "cell_type": "code",
      "source": [
        "files = os.listdir(path)\n",
        "print(\"Files in the dataset folder:\", files)"
      ],
      "metadata": {
        "id": "t6psLp9rOzlh",
        "outputId": "48168ea7-8dac-475e-a1df-5c1e35ccb362",
        "colab": {
          "base_uri": "https://localhost:8080/"
        }
      },
      "execution_count": 7,
      "outputs": [
        {
          "output_type": "stream",
          "name": "stdout",
          "text": [
            "Files in the dataset folder: ['Tomatoes', 'Persimmon', 'Orange', 'Peach', 'Apple', 'Pomegranate', 'Guava', 'Banana', 'Mango', 'Pitaya', 'Plum', 'Kiwi', 'muskmelon', 'Carambola', 'Pear']\n"
          ]
        }
      ]
    },
    {
      "cell_type": "markdown",
      "source": [
        "#Usuwanie folderów"
      ],
      "metadata": {
        "id": "Mtquyn_Rl4Qs"
      }
    },
    {
      "cell_type": "code",
      "source": [
        "for item in os.listdir(output_path):\n",
        "    item_path = os.path.join(output_path, item)\n",
        "    if os.path.isdir(item_path):\n",
        "        shutil.rmtree(item_path)"
      ],
      "metadata": {
        "id": "RNv7SkUnfVFO",
        "outputId": "0ffd840e-a720-46d9-fef2-d586ad1701b6",
        "colab": {
          "base_uri": "https://localhost:8080/",
          "height": 193
        }
      },
      "execution_count": 8,
      "outputs": [
        {
          "output_type": "error",
          "ename": "FileNotFoundError",
          "evalue": "[Errno 2] No such file or directory: '/content/banana_kiwi_orange'",
          "traceback": [
            "\u001b[0;31m---------------------------------------------------------------------------\u001b[0m",
            "\u001b[0;31mFileNotFoundError\u001b[0m                         Traceback (most recent call last)",
            "\u001b[0;32m<ipython-input-8-36deaf33f514>\u001b[0m in \u001b[0;36m<cell line: 1>\u001b[0;34m()\u001b[0m\n\u001b[0;32m----> 1\u001b[0;31m \u001b[0;32mfor\u001b[0m \u001b[0mitem\u001b[0m \u001b[0;32min\u001b[0m \u001b[0mos\u001b[0m\u001b[0;34m.\u001b[0m\u001b[0mlistdir\u001b[0m\u001b[0;34m(\u001b[0m\u001b[0moutput_path\u001b[0m\u001b[0;34m)\u001b[0m\u001b[0;34m:\u001b[0m\u001b[0;34m\u001b[0m\u001b[0;34m\u001b[0m\u001b[0m\n\u001b[0m\u001b[1;32m      2\u001b[0m     \u001b[0mitem_path\u001b[0m \u001b[0;34m=\u001b[0m \u001b[0mos\u001b[0m\u001b[0;34m.\u001b[0m\u001b[0mpath\u001b[0m\u001b[0;34m.\u001b[0m\u001b[0mjoin\u001b[0m\u001b[0;34m(\u001b[0m\u001b[0moutput_path\u001b[0m\u001b[0;34m,\u001b[0m \u001b[0mitem\u001b[0m\u001b[0;34m)\u001b[0m\u001b[0;34m\u001b[0m\u001b[0;34m\u001b[0m\u001b[0m\n\u001b[1;32m      3\u001b[0m     \u001b[0;32mif\u001b[0m \u001b[0mos\u001b[0m\u001b[0;34m.\u001b[0m\u001b[0mpath\u001b[0m\u001b[0;34m.\u001b[0m\u001b[0misdir\u001b[0m\u001b[0;34m(\u001b[0m\u001b[0mitem_path\u001b[0m\u001b[0;34m)\u001b[0m\u001b[0;34m:\u001b[0m\u001b[0;34m\u001b[0m\u001b[0;34m\u001b[0m\u001b[0m\n\u001b[1;32m      4\u001b[0m         \u001b[0mshutil\u001b[0m\u001b[0;34m.\u001b[0m\u001b[0mrmtree\u001b[0m\u001b[0;34m(\u001b[0m\u001b[0mitem_path\u001b[0m\u001b[0;34m)\u001b[0m\u001b[0;34m\u001b[0m\u001b[0;34m\u001b[0m\u001b[0m\n",
            "\u001b[0;31mFileNotFoundError\u001b[0m: [Errno 2] No such file or directory: '/content/banana_kiwi_orange'"
          ]
        }
      ]
    },
    {
      "cell_type": "code",
      "source": [
        "categories = ['banana', 'peach', 'orange']\n",
        "train_size = 800\n",
        "test_size = 200"
      ],
      "metadata": {
        "id": "Y1StJqQ0fp7p"
      },
      "execution_count": null,
      "outputs": []
    },
    {
      "cell_type": "code",
      "source": [
        "os.makedirs(f\"{output_path}/train\", exist_ok=True)\n",
        "os.makedirs(f\"{output_path}/test\", exist_ok=True)"
      ],
      "metadata": {
        "id": "8F3sq-7lfuTE"
      },
      "execution_count": null,
      "outputs": []
    },
    {
      "cell_type": "markdown",
      "source": [
        "# Pobieranie danych i kopiowanie do konkretnych utworzonych przez nas folderów\n",
        "w poniższym przypadku mamy tylko podział na test i train gdybyśmy chcieli mieć podział na test train i validation należało by to zrobić tak:\n",
        "\n",
        "Najpierw dzielimy dane na zestaw treningowy oraz pozostały (test + walidacja):\n",
        "\n",
        "**train_images, remaining_images = train_test_split(images, train_size=train_size, random_state=42)**\n",
        "\n",
        "Następnie dzielimy pozostały zbiór na test i walidację:\n",
        "\n",
        "**test_images, validation_images = train_test_split(remaining_images, test_size=validation_size, random_state=42)**\n",
        "\n",
        "Do tych folderów przypisywane są same nazwy obrazków na podstawie których będziemy kopiować dane z datasetu."
      ],
      "metadata": {
        "id": "6TUt0G3Pks4Q"
      }
    },
    {
      "cell_type": "code",
      "source": [
        "for category in categories:\n",
        "  category_path = os.path.join(path, category.capitalize())\n",
        "  train_category_path = os.path.join(output_path, 'train', category)\n",
        "  test_category_path = os.path.join(output_path, 'test', category)\n",
        "\n",
        "  os.makedirs(train_category_path, exist_ok=True)\n",
        "  os.makedirs(test_category_path, exist_ok=True)\n",
        "\n",
        "  images = os.listdir(category_path)\n",
        "  train_images, test_images = train_test_split(images, train_size=train_size, test_size=test_size, random_state=42)\n",
        "\n",
        "  for img in train_images:\n",
        "      shutil.copy(os.path.join(category_path, img), os.path.join(train_category_path, img))\n",
        "\n",
        "  for img in test_images:\n",
        "      shutil.copy(os.path.join(category_path, img), os.path.join(test_category_path, img))"
      ],
      "metadata": {
        "collapsed": true,
        "id": "Vx193YgKUAo6"
      },
      "execution_count": null,
      "outputs": []
    },
    {
      "cell_type": "code",
      "source": [],
      "metadata": {
        "id": "nXIDpcudAem3"
      },
      "execution_count": null,
      "outputs": []
    }
  ]
}